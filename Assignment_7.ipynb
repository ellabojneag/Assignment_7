{
 "cells": [
  {
   "cell_type": "code",
   "execution_count": 2,
   "metadata": {},
   "outputs": [
    {
     "ename": "ModuleNotFoundError",
     "evalue": "No module named 'vaderSentiment'",
     "output_type": "error",
     "traceback": [
      "\u001b[1;31m---------------------------------------------------------------------------\u001b[0m",
      "\u001b[1;31mModuleNotFoundError\u001b[0m                       Traceback (most recent call last)",
      "\u001b[1;32m<ipython-input-2-d13d8a707b08>\u001b[0m in \u001b[0;36m<module>\u001b[1;34m()\u001b[0m\n\u001b[0;32m     10\u001b[0m \u001b[1;32mimport\u001b[0m \u001b[0mnumpy\u001b[0m \u001b[1;32mas\u001b[0m \u001b[0mnp\u001b[0m\u001b[1;33m\u001b[0m\u001b[0m\n\u001b[0;32m     11\u001b[0m \u001b[1;32mfrom\u001b[0m \u001b[0mpprint\u001b[0m \u001b[1;32mimport\u001b[0m \u001b[0mpprint\u001b[0m\u001b[1;33m\u001b[0m\u001b[0m\n\u001b[1;32m---> 12\u001b[1;33m \u001b[1;32mfrom\u001b[0m \u001b[0mvaderSentiment\u001b[0m\u001b[1;33m.\u001b[0m\u001b[0mvaderSentiment\u001b[0m \u001b[1;32mimport\u001b[0m \u001b[0mSentimentIntensityAnalyzer\u001b[0m\u001b[1;33m\u001b[0m\u001b[0m\n\u001b[0m\u001b[0;32m     13\u001b[0m \u001b[0manalyzer\u001b[0m \u001b[1;33m=\u001b[0m \u001b[0mSentimentIntensityAnalyzer\u001b[0m\u001b[1;33m(\u001b[0m\u001b[1;33m)\u001b[0m\u001b[1;33m\u001b[0m\u001b[0m\n\u001b[0;32m     14\u001b[0m \u001b[1;33m\u001b[0m\u001b[0m\n",
      "\u001b[1;31mModuleNotFoundError\u001b[0m: No module named 'vaderSentiment'"
     ]
    }
   ],
   "source": [
    "# Dependencies\n",
    "import tweepy\n",
    "import pandas as pd\n",
    "import matplotlib.pyplot as plt\n",
    "import time\n",
    "import random\n",
    "import numpy \n",
    "import json\n",
    "import requests\n",
    "import numpy as np\n",
    "from pprint import pprint\n",
    "from vaderSentiment.vaderSentiment import SentimentIntensityAnalyzer\n",
    "analyzer = SentimentIntensityAnalyzer()\n",
    "\n",
    "from config import (consumer_key, \n",
    "                    consumer_secret, \n",
    "                    access_token, \n",
    "                    access_token_secret)\n",
    "\n",
    "\n",
    "# Twitter API Keys\n",
    "consumer_key = \"XLQB45tKeucz7A4TQ0EOd1YGV\"\n",
    "consumer_secret = \"pVDuqeXlEI1lFnyFm4n1UYDAkEvWWBGEKaSXg5NmD8nnfRi3yK\"\n",
    "access_token = \"1730778955-T8OnlELOE0nlJI5WENa2ZYMbfAyBdZ1MfflVZLj\"\n",
    "access_token_secret = \"Ivh3uou2dHO3cxt4cv2f9Ivk1jFOUfCEVdDw9QapsoK6l\"\n",
    "\n",
    "# Setup Tweepy Authentication\n",
    "auth = tweepy.OAuthHandler(consumer_key, consumer_secret)\n",
    "auth.set_access_token(access_token, access_token_secret)\n",
    "api = tweepy.API(auth, parser=tweepy.parsers.JSONParser())"
   ]
  },
  {
   "cell_type": "code",
   "execution_count": 3,
   "metadata": {
    "collapsed": true
   },
   "outputs": [],
   "source": [
    "# array of news outlets\n",
    "news_outlets = ['nytimes', 'CNN', 'BBC','CBS', 'fox' ]\n"
   ]
  },
  {
   "cell_type": "code",
   "execution_count": 6,
   "metadata": {
    "collapsed": true
   },
   "outputs": [],
   "source": [
    "def News_Sentiment(target):\n",
    "    counter = 1\n",
    "    sentiments = []\n",
    "    public_tweet = api.user_timeline(target, count = 100 )\n",
    "    \n",
    "    for tweet in public_tweet :\n",
    "        \n",
    "        results = analyzer.polarity_scores(tweet[\"text\"])\n",
    "        compound = results[\"compound\"]\n",
    "        pos = results[\"positive\"]\n",
    "        neu = results[\"neutral\"]\n",
    "        neg = results[\"negative\"]\n",
    "        tweets_ago = counter\n",
    "        \n",
    "        sentiments.append({\n",
    "            \"twitter source account\" : target,\n",
    "            \"Tweets ago\" : tweets_ago,\n",
    "            \"Date\" : tweet['created_at'],\n",
    "            \"Compound\" : compound,\n",
    "            'Negative' : negative,\n",
    "            \"Positive\"  : positive,\n",
    "            \"Neutral\"  : neutral,\n",
    "            \"tweet_text\" : tweet[\"text\"]\n",
    "            \n",
    "        })\n",
    "        \n",
    "        counter = counter + 1\n",
    "        \n",
    "    data= pd.DataFrame.from_dict(sentiments)\n",
    "    data.sort_index(axis=0 ,ascending=False, inplace = True)  \n",
    "    return  data"
   ]
  },
  {
   "cell_type": "code",
   "execution_count": null,
   "metadata": {
    "collapsed": true
   },
   "outputs": [],
   "source": []
  }
 ],
 "metadata": {
  "kernelspec": {
   "display_name": "Python 3",
   "language": "python",
   "name": "python3"
  },
  "language_info": {
   "codemirror_mode": {
    "name": "ipython",
    "version": 3
   },
   "file_extension": ".py",
   "mimetype": "text/x-python",
   "name": "python",
   "nbconvert_exporter": "python",
   "pygments_lexer": "ipython3",
   "version": "3.6.3"
  }
 },
 "nbformat": 4,
 "nbformat_minor": 2
}
